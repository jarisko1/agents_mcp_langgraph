{
 "cells": [
  {
   "cell_type": "markdown",
   "id": "c37f0dad",
   "metadata": {},
   "source": [
    "# Test notebook\n",
    "- https://huggingface.co/learn/agents-course/unit4/hands-on\n",
    "- https://github.com/marketplace?type=models"
   ]
  },
  {
   "cell_type": "code",
   "execution_count": 1,
   "id": "5dd8c916",
   "metadata": {},
   "outputs": [
    {
     "name": "stdout",
     "output_type": "stream",
     "text": [
      "Note: you may need to restart the kernel to use updated packages.\n"
     ]
    }
   ],
   "source": [
    "pip install -r requirements.txt -qU"
   ]
  },
  {
   "cell_type": "code",
   "execution_count": null,
   "id": "d3ee390d",
   "metadata": {},
   "outputs": [],
   "source": [
    "import os\n",
    "import requests\n",
    "import inspect\n",
    "import typing\n",
    "\n",
    "from dotenv import load_dotenv\n",
    "import pandas as pd\n",
    "import gradio as gr\n",
    "\n",
    "\n",
    "load_dotenv()\n",
    "\n",
    "api_url = \"https://agents-course-unit4-scoring.hf.space\"\n",
    "questions_url = f\"{api_url}/questions\"\n",
    "random_question_url = f\"{api_url}/random-question\"\n",
    "files_url = f\"{api_url}/files\"\n",
    "submit_url = f\"{api_url}/submit\"\n",
    "\n",
    "def get_question() -> typing.Tuple[str, str, bytes | None, str | None]:\n",
    "    \"\"\"\n",
    "    Get a random question from the API.\n",
    "    Returns\n",
    "        - question text\n",
    "        - task id\n",
    "        - binary file (if any)\n",
    "        - file name (if any)\n",
    "    \"\"\"\n",
    "\n",
    "    question_data = requests.get(questions_url, timeout=15)\n",
    "    question_data.raise_for_status()\n",
    "    questions_json = question_data.json()[0]\n",
    "\n",
    "    question = questions_json[\"question\"]\n",
    "    task_id = questions_json[\"task_id\"]\n",
    "    file_content = None\n",
    "\n",
    "    file_name = questions_json.get(\"file_name\", None)\n",
    "\n",
    "    if file_name:\n",
    "        file_url = f\"{files_url}/{task_id}\"\n",
    "        response = requests.get(file_url, timeout=15)\n",
    "        response.raise_for_status()\n",
    "        # with open(os.path.join(\"tmp\", file_name), \"wb\") as f:\n",
    "        #     f.write(response.content)\n",
    "        file_content = response.content\n",
    "\n",
    "    return question, task_id, file_content, file_name"
   ]
  },
  {
   "cell_type": "code",
   "execution_count": null,
   "id": "b0b2c84a",
   "metadata": {},
   "outputs": [
    {
     "name": "stdout",
     "output_type": "stream",
     "text": [
      "Question:  How many studio albums were published by Mercedes Sosa between 2000 and 2009 (included)? You can use the latest 2022 version of english wikipedia.\n",
      "Response:  Between 2000 and 2009, Mercedes Sosa released eight studio albums. Here is a list of those albums:\n",
      "\n",
      "1. **Mujeres Argentinas** (2000)\n",
      "2. **Cantora** (2001)\n",
      "3. **30 Años de Vida de Mercedes Sosa** (2004)\n",
      "4. **Y cómo es él** (2005)\n",
      "5. **Canta por los ausentes** (2006) – Although primarily distributed as a promotion album, it has significant content.\n",
      "6. **Alta fidelidad** (2007)\n",
      "7. **Rodolfo** (2008) – A collaboration with Joan Manuel Serrat.\n",
      "8. **Cantora 2** (2009)\n",
      "\n",
      "Please note that the released albums can vary in definition based on official releases versus compilations or promotional distributions, but these are the mainstream studio albums released within that time frame.\n"
     ]
    }
   ],
   "source": [
    "question, task_id, file_content, file_name = get_question()\n",
    "\n",
    "import os\n",
    "from azure.ai.inference import ChatCompletionsClient\n",
    "from azure.ai.inference.models import SystemMessage, UserMessage\n",
    "from azure.core.credentials import AzureKeyCredential\n",
    "\n",
    "endpoint = \"https://models.github.ai/inference\"\n",
    "model_name = \"microsoft/Phi-4\"\n",
    "token = os.environ[\"GITHUB_TOKEN\"]\n",
    "\n",
    "client = ChatCompletionsClient(\n",
    "    endpoint=endpoint,\n",
    "    credential=AzureKeyCredential(token),\n",
    ")\n",
    "\n",
    "response = client.complete(\n",
    "    messages=[\n",
    "        UserMessage(question),\n",
    "    ],\n",
    "    temperature=1.0,\n",
    "    top_p=1.0,\n",
    "    max_tokens=1000,\n",
    "    model=model_name\n",
    ")\n",
    "\n",
    "print(\"Question:\", question)\n",
    "print(\"Response:\", response.choices[0].message.content)"
   ]
  }
 ],
 "metadata": {
  "kernelspec": {
   "display_name": ".venv",
   "language": "python",
   "name": "python3"
  },
  "language_info": {
   "codemirror_mode": {
    "name": "ipython",
    "version": 3
   },
   "file_extension": ".py",
   "mimetype": "text/x-python",
   "name": "python",
   "nbconvert_exporter": "python",
   "pygments_lexer": "ipython3",
   "version": "3.11.6"
  }
 },
 "nbformat": 4,
 "nbformat_minor": 5
}

{
 "cells": [
  {
   "cell_type": "markdown",
   "id": "4798e8c2",
   "metadata": {},
   "source": [
    "# ReAct Agent"
   ]
  },
  {
   "cell_type": "code",
   "execution_count": null,
   "id": "0ac50203",
   "metadata": {},
   "outputs": [],
   "source": [
    "from langchain import hub\n",
    "from langchain_openai import ChatOpenAI\n",
    "from langgraph.prebuilt import create_react_agent\n",
    "from langchain_community.tools.tavily_search import TavilySearchResults\n",
    "from dotenv import load_dotenv\n",
    "\n",
    "load_dotenv()\n",
    "\n",
    "tools = [TavilySearchResults(max_results=3)]\n",
    "\n",
    "assistant_model = AzureChatOpenAI(\n",
    "    azure_endpoint=os.environ[\"AZURE_OPENAI_ENDPOINT\"],\n",
    "    azure_deployment=\"gpt-4.1\",\n",
    "    openai_api_version=os.environ[\"AZURE_OPENAI_API_VERSION\"],\n",
    ")\n",
    "\n",
    "prompt = \"You are a helpful assistant.\"\n",
    "agent_executor = create_react_agent(assistant_model, tools, prompt=prompt)\n",
    "\n",
    "agent_executor.invoke({\"messages\": [(\"user\", \"\"\"Given this table defining * on the set S = {a, b, c, d, e}\n",
    "\n",
    "|*|a|b|c|d|e|\n",
    "|---|---|---|---|---|---|\n",
    "|a|a|b|c|b|d|\n",
    "|b|b|c|a|e|c|\n",
    "|c|c|a|b|b|a|\n",
    "|d|b|e|b|e|d|\n",
    "|e|d|b|a|d|c|\n",
    "\n",
    "provide the subset of S involved in any possible counter-examples that prove * is not commutative. Provide your answer as a comma separated list of the elements in the set in alphabetical order.\n",
    "\"\"\")]})"
   ]
  }
 ],
 "metadata": {
  "kernelspec": {
   "display_name": ".venv",
   "language": "python",
   "name": "python3"
  },
  "language_info": {
   "codemirror_mode": {
    "name": "ipython",
    "version": 3
   },
   "file_extension": ".py",
   "mimetype": "text/x-python",
   "name": "python",
   "nbconvert_exporter": "python",
   "pygments_lexer": "ipython3",
   "version": "3.11.6"
  }
 },
 "nbformat": 4,
 "nbformat_minor": 5
}
